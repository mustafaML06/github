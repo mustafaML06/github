{
 "cells": [
  {
   "cell_type": "code",
   "execution_count": null,
   "metadata": {},
   "outputs": [],
   "source": [
    "Eger kaggle de LightGBM de JSON characters hatasi aliyorsaniz yapmanz gereken cok basit.\n",
    "Model kurarken ilk olarak karakter duzeltmesi yapmaniz gerekir.\n",
    "Model Fonksiyonunun ilk satirina asagidaki kodu yazmaniz yeterli \n",
    "Daha sonra test ve train diye bolun. ;-)\n",
    "\n"
   ]
  },
  {
   "cell_type": "code",
   "execution_count": null,
   "metadata": {},
   "outputs": [],
   "source": [
    "all_data.columns = [\"\".join (c if c.isalnum() else \"_\" for c in str(x)) for x in all_data.columns]"
   ]
  }
 ],
 "metadata": {
  "kernelspec": {
   "display_name": "Python 3",
   "language": "python",
   "name": "python3"
  },
  "language_info": {
   "codemirror_mode": {
    "name": "ipython",
    "version": 3
   },
   "file_extension": ".py",
   "mimetype": "text/x-python",
   "name": "python",
   "nbconvert_exporter": "python",
   "pygments_lexer": "ipython3",
   "version": "3.7.7"
  }
 },
 "nbformat": 4,
 "nbformat_minor": 4
}
